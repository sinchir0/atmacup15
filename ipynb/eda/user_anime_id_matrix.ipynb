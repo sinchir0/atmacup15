{
 "cells": [
  {
   "cell_type": "code",
   "execution_count": 1,
   "metadata": {},
   "outputs": [],
   "source": [
    "import polars as pl"
   ]
  },
  {
   "cell_type": "code",
   "execution_count": 12,
   "metadata": {},
   "outputs": [],
   "source": [
    "train = pl.read_csv(\"../../data/train.csv\")\n",
    "anime = pl.read_csv(\"../../data/anime.csv\")\n",
    "test = pl.read_csv(\"../../data/test.csv\")"
   ]
  },
  {
   "cell_type": "code",
   "execution_count": 13,
   "metadata": {},
   "outputs": [],
   "source": [
    "train = train.with_columns(\n",
    "    pl.lit(\"train\").alias(\"genre\")\n",
    ")\n",
    "\n",
    "test = test.with_columns(\n",
    "    pl.lit(\"test\").alias(\"genre\")\n",
    ")"
   ]
  },
  {
   "cell_type": "code",
   "execution_count": 15,
   "metadata": {},
   "outputs": [],
   "source": [
    "merge_df = pl.concat([train.select([\"user_id\", \"anime_id\", \"genre\"]), test])"
   ]
  },
  {
   "cell_type": "code",
   "execution_count": 19,
   "metadata": {},
   "outputs": [],
   "source": [
    "merge_df = merge_df.join(anime.select([\"anime_id\", \"japanese_name\"]), on=\"anime_id\")"
   ]
  },
  {
   "cell_type": "code",
   "execution_count": 40,
   "metadata": {},
   "outputs": [],
   "source": [
    "merge_df = merge_df.with_columns(\n",
    "    (pl.col(\"japanese_name\") + \"_\" + pl.col(\"anime_id\")).alias(\"id_name\")\n",
    ")"
   ]
  },
  {
   "cell_type": "code",
   "execution_count": 43,
   "metadata": {},
   "outputs": [],
   "source": [
    "id_name_list = sorted(list(merge_df.get_column(\"id_name\").unique()))"
   ]
  },
  {
   "cell_type": "code",
   "execution_count": 46,
   "metadata": {},
   "outputs": [],
   "source": [
    "merge_df.pivot(values=\"genre\", index=\"user_id\", columns=\"id_name\", aggregate_function=\"count\")[\"user_id\" id_name_list].head(500).write_csv(\"user_anime_id_matrix.csv\")"
   ]
  },
  {
   "cell_type": "code",
   "execution_count": null,
   "metadata": {},
   "outputs": [],
   "source": [
    "merge_df.pivot(values=\"genre\", index=\"user_id\", columns=\"id_name\", aggregate_function=\"count\")[id_name_list]"
   ]
  }
 ],
 "metadata": {
  "kernelspec": {
   "display_name": ".venv",
   "language": "python",
   "name": "python3"
  },
  "language_info": {
   "codemirror_mode": {
    "name": "ipython",
    "version": 3
   },
   "file_extension": ".py",
   "mimetype": "text/x-python",
   "name": "python",
   "nbconvert_exporter": "python",
   "pygments_lexer": "ipython3",
   "version": "3.11.3"
  },
  "orig_nbformat": 4
 },
 "nbformat": 4,
 "nbformat_minor": 2
}
