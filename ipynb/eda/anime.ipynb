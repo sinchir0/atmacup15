{
 "cells": [
  {
   "cell_type": "code",
   "execution_count": 1,
   "metadata": {},
   "outputs": [],
   "source": [
    "import polars as pl\n",
    "from matplotlib_venn import venn3"
   ]
  },
  {
   "cell_type": "code",
   "execution_count": 2,
   "metadata": {},
   "outputs": [],
   "source": [
    "train = pl.read_csv(\"../../data/train.csv\")\n",
    "anime = pl.read_csv(\"../../data/anime.csv\")\n",
    "test = pl.read_csv(\"../../data/test.csv\")\n",
    "sample_submission = pl.read_csv(\"../../data/sample_submission.csv\")"
   ]
  },
  {
   "cell_type": "code",
   "execution_count": 3,
   "metadata": {},
   "outputs": [],
   "source": [
    "train_anime_id_set = set(train.get_column(\"anime_id\").unique())\n",
    "test_anime_id_set = set(test.get_column(\"anime_id\").unique())\n",
    "anime_anime_id_set = set(anime.get_column(\"anime_id\").unique())"
   ]
  },
  {
   "cell_type": "code",
   "execution_count": 4,
   "metadata": {},
   "outputs": [
    {
     "data": {
      "image/png": "[encoded data removed]",
      "text/plain": [
       "<Figure size 640x480 with 1 Axes>"
      ]
     },
     "metadata": {},
     "output_type": "display_data"
    }
   ],
   "source": [
    "venn3([train_anime_id_set, test_anime_id_set, anime_anime_id_set], set_labels = (\"train\", \"test\", \"anime\"));"
   ]
  },
  {
   "cell_type": "code",
   "execution_count": 5,
   "metadata": {},
   "outputs": [
    {
     "data": {
      "text/plain": [
       "2000"
      ]
     },
     "execution_count": 5,
     "metadata": {},
     "output_type": "execute_result"
    }
   ],
   "source": [
    "len(set(anime.get_column(\"anime_id\").unique()))"
   ]
  },
  {
   "cell_type": "code",
   "execution_count": 6,
   "metadata": {},
   "outputs": [
    {
     "data": {
      "text/plain": [
       "1954"
      ]
     },
     "execution_count": 6,
     "metadata": {},
     "output_type": "execute_result"
    }
   ],
   "source": [
    "len(set(train.get_column(\"anime_id\").unique()) & set(anime.get_column(\"anime_id\").unique()))"
   ]
  },
  {
   "cell_type": "code",
   "execution_count": 7,
   "metadata": {},
   "outputs": [],
   "source": [
    "anime_score_agg_df = train.join(anime, on=\"anime_id\", how=\"left\").groupby(\"anime_id\").agg(\n",
    "    pl.sum(\"score\").alias(\"anime_score_sum\"),\n",
    "    pl.count(\"score\").alias(\"anime_score_count\"),\n",
    "    pl.mean(\"score\").alias(\"anime_score_mean\"),\n",
    "    pl.std(\"score\").alias(\"anime_score_std\"),\n",
    "    pl.median(\"score\").alias(\"anime_score_median\"),\n",
    "    pl.max(\"score\").alias(\"anime_score_max\"),\n",
    "    pl.min(\"score\").alias(\"anime_score_min\")\n",
    ")"
   ]
  },
  {
   "cell_type": "code",
   "execution_count": 8,
   "metadata": {},
   "outputs": [],
   "source": [
    "anime.join(anime_score_agg_df, on=\"anime_id\", how=\"left\").sort(\"anime_score_mean\", descending=True).write_csv(\"anime_score_mean.csv\")"
   ]
  },
  {
   "cell_type": "code",
   "execution_count": null,
   "metadata": {},
   "outputs": [],
   "source": []
  }
 ],
 "metadata": {
  "kernelspec": {
   "display_name": ".venv",
   "language": "python",
   "name": "python3"
  },
  "language_info": {
   "codemirror_mode": {
    "name": "ipython",
    "version": 3
   },
   "file_extension": ".py",
   "mimetype": "text/x-python",
   "name": "python",
   "nbconvert_exporter": "python",
   "pygments_lexer": "ipython3",
   "version": "3.11.3"
  },
  "orig_nbformat": 4
 },
 "nbformat": 4,
 "nbformat_minor": 2
}
