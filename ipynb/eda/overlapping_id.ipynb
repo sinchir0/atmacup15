{
 "cells": [
  {
   "cell_type": "markdown",
   "metadata": {},
   "source": [
    "多くの人が最初に見るであろうtrainとtestの重複を調べたので投稿します。"
   ]
  },
  {
   "cell_type": "markdown",
   "metadata": {},
   "source": [
    "# 分かることまとめ\n",
    "\n",
    "- user_id\n",
    "  - trainにしか存在しないuser_idが14、testにしか存在しないuser_idが204、どちらにも存在するuser_idが1780\n",
    "  - testの全レコードのうち、trainに含まれていないuser_idのレコードは`23%`\n",
    "- anime_id\n",
    "  - trainにしか存在しないanime_idが2、testにしか存在しないanime_idが2、どちらにも存在するanime_idが1952\n",
    "  - testの全レコードのうち、trainに含まれていないanime_idのレコードは0.001%\n",
    "  - testにしか存在しないONE PIECE TV版\n",
    "- Testの中に、user_id, anime_idの両方がtrainに存在しないレコードは1レコード存在する"
   ]
  },
  {
   "cell_type": "code",
   "execution_count": 1,
   "metadata": {},
   "outputs": [],
   "source": [
    "import polars as pl\n",
    "import matplotlib.pyplot as plt\n",
    "from matplotlib_venn import venn2\n",
    "\n",
    "import japanize_matplotlib"
   ]
  },
  {
   "cell_type": "code",
   "execution_count": 2,
   "metadata": {},
   "outputs": [
    {
     "data": {
      "text/plain": [
       "polars.config.Config"
      ]
     },
     "execution_count": 2,
     "metadata": {},
     "output_type": "execute_result"
    }
   ],
   "source": [
    "pl.Config.set_fmt_str_lengths(100)"
   ]
  },
  {
   "cell_type": "code",
   "execution_count": 3,
   "metadata": {},
   "outputs": [
    {
     "name": "stdout",
     "output_type": "stream",
     "text": [
      "Python 3.11.3\n"
     ]
    }
   ],
   "source": [
    "!python --version"
   ]
  },
  {
   "cell_type": "code",
   "execution_count": 4,
   "metadata": {},
   "outputs": [
    {
     "data": {
      "text/plain": [
       "'0.18.7'"
      ]
     },
     "execution_count": 4,
     "metadata": {},
     "output_type": "execute_result"
    }
   ],
   "source": [
    "pl.__version__"
   ]
  },
  {
   "cell_type": "code",
   "execution_count": 5,
   "metadata": {},
   "outputs": [],
   "source": [
    "train = pl.read_csv(\"../data/train.csv\")\n",
    "anime = pl.read_csv(\"../data/anime.csv\")\n",
    "test = pl.read_csv(\"../data/test.csv\")"
   ]
  },
  {
   "cell_type": "markdown",
   "metadata": {},
   "source": [
    "# trainとtestでuser_idがどの程度重複するか"
   ]
  },
  {
   "cell_type": "code",
   "execution_count": 6,
   "metadata": {},
   "outputs": [],
   "source": [
    "train_user_id_set = set(list(train.get_column(\"user_id\").unique()))\n",
    "test_user_id_set = set(list(test.get_column(\"user_id\").unique()))"
   ]
  },
  {
   "cell_type": "code",
   "execution_count": 7,
   "metadata": {},
   "outputs": [
    {
     "data": {
      "image/png": "[encoded data removed]",
      "text/plain": [
       "<Figure size 640x480 with 1 Axes>"
      ]
     },
     "metadata": {},
     "output_type": "display_data"
    }
   ],
   "source": [
    "plt.title(\"uesr_idの被り具合\")\n",
    "venn2([train_user_id_set, test_user_id_set], set_labels = (\"train\", \"test\"));"
   ]
  },
  {
   "cell_type": "markdown",
   "metadata": {},
   "source": [
    "trainにしか存在しないuser_idが14、testにしか存在しないuser_idが204、どちらにも存在するuser_idが1780"
   ]
  },
  {
   "cell_type": "code",
   "execution_count": 8,
   "metadata": {},
   "outputs": [],
   "source": [
    "only_train_contain_user_id = train_user_id_set.difference(test_user_id_set)\n",
    "only_test_contain_user_id = test_user_id_set.difference(train_user_id_set)"
   ]
  },
  {
   "cell_type": "code",
   "execution_count": 9,
   "metadata": {},
   "outputs": [
    {
     "data": {
      "text/html": [
       "<div><style>\n",
       ".dataframe > thead > tr > th,\n",
       ".dataframe > tbody > tr > td {\n",
       "  text-align: right;\n",
       "}\n",
       "</style>\n",
       "<small>shape: (56, 3)</small><table border=\"1\" class=\"dataframe\"><thead><tr><th>user_id</th><th>anime_id</th><th>score</th></tr><tr><td>str</td><td>str</td><td>i64</td></tr></thead><tbody><tr><td>&quot;212c2cc88f6e21ce1f96&quot;</td><td>&quot;0d5552c2f719d6291862&quot;</td><td>8</td></tr><tr><td>&quot;4baddb50671056c805a6&quot;</td><td>&quot;7ced0f68a4990efa8292&quot;</td><td>10</td></tr><tr><td>&quot;4baddb50671056c805a6&quot;</td><td>&quot;957284ba62454b9fdfe6&quot;</td><td>9</td></tr><tr><td>&quot;4baddb50671056c805a6&quot;</td><td>&quot;b671013ef40b97a9cec0&quot;</td><td>10</td></tr><tr><td>&quot;4fdadf05c816e5334628&quot;</td><td>&quot;35d87d3bdeed620ef335&quot;</td><td>10</td></tr><tr><td>&quot;4fdadf05c816e5334628&quot;</td><td>&quot;a9c6b5719b7861715db5&quot;</td><td>10</td></tr><tr><td>&quot;4fdadf05c816e5334628&quot;</td><td>&quot;c47e3c4e22b7994b2aa8&quot;</td><td>10</td></tr><tr><td>&quot;4fdadf05c816e5334628&quot;</td><td>&quot;fbf8b4a3868bea372835&quot;</td><td>10</td></tr><tr><td>&quot;504e0d6cdfffe22c5596&quot;</td><td>&quot;0d5552c2f719d6291862&quot;</td><td>8</td></tr><tr><td>&quot;504e0d6cdfffe22c5596&quot;</td><td>&quot;634087c48b1110bf25fa&quot;</td><td>9</td></tr><tr><td>&quot;504e0d6cdfffe22c5596&quot;</td><td>&quot;718b9c987cc7dba84f4f&quot;</td><td>8</td></tr><tr><td>&quot;504e0d6cdfffe22c5596&quot;</td><td>&quot;73e13b566be2ef7c801d&quot;</td><td>9</td></tr><tr><td>&hellip;</td><td>&hellip;</td><td>&hellip;</td></tr><tr><td>&quot;a7d71bf84c85d815cf41&quot;</td><td>&quot;b2266846a519146070bf&quot;</td><td>10</td></tr><tr><td>&quot;a7d71bf84c85d815cf41&quot;</td><td>&quot;f3419e911d38c9b56283&quot;</td><td>10</td></tr><tr><td>&quot;a7d71bf84c85d815cf41&quot;</td><td>&quot;fd75e6033441e07a1805&quot;</td><td>8</td></tr><tr><td>&quot;b4b7aaa1bfb5b181a5a8&quot;</td><td>&quot;11e5c3b14a504649fd66&quot;</td><td>10</td></tr><tr><td>&quot;b4b7aaa1bfb5b181a5a8&quot;</td><td>&quot;202b9431c38386605fae&quot;</td><td>10</td></tr><tr><td>&quot;b4b7aaa1bfb5b181a5a8&quot;</td><td>&quot;46f56968247ca3449034&quot;</td><td>10</td></tr><tr><td>&quot;b4b7aaa1bfb5b181a5a8&quot;</td><td>&quot;a7aea3c905e5b0b889ef&quot;</td><td>9</td></tr><tr><td>&quot;b4b7aaa1bfb5b181a5a8&quot;</td><td>&quot;ef697ac4e773d0484b04&quot;</td><td>9</td></tr><tr><td>&quot;cadc77afb63f357407de&quot;</td><td>&quot;35d87d3bdeed620ef335&quot;</td><td>10</td></tr><tr><td>&quot;cadc77afb63f357407de&quot;</td><td>&quot;a9f71cfc0f90930f06a3&quot;</td><td>10</td></tr><tr><td>&quot;cadc77afb63f357407de&quot;</td><td>&quot;c2a0a8434524101fdbcf&quot;</td><td>10</td></tr><tr><td>&quot;cadc77afb63f357407de&quot;</td><td>&quot;caa02c48c1b2e7158482&quot;</td><td>10</td></tr></tbody></table></div>"
      ],
      "text/plain": [
       "shape: (56, 3)\n",
       "┌──────────────────────┬──────────────────────┬───────┐\n",
       "│ user_id              ┆ anime_id             ┆ score │\n",
       "│ ---                  ┆ ---                  ┆ ---   │\n",
       "│ str                  ┆ str                  ┆ i64   │\n",
       "╞══════════════════════╪══════════════════════╪═══════╡\n",
       "│ 212c2cc88f6e21ce1f96 ┆ 0d5552c2f719d6291862 ┆ 8     │\n",
       "│ 4baddb50671056c805a6 ┆ 7ced0f68a4990efa8292 ┆ 10    │\n",
       "│ 4baddb50671056c805a6 ┆ 957284ba62454b9fdfe6 ┆ 9     │\n",
       "│ 4baddb50671056c805a6 ┆ b671013ef40b97a9cec0 ┆ 10    │\n",
       "│ …                    ┆ …                    ┆ …     │\n",
       "│ cadc77afb63f357407de ┆ 35d87d3bdeed620ef335 ┆ 10    │\n",
       "│ cadc77afb63f357407de ┆ a9f71cfc0f90930f06a3 ┆ 10    │\n",
       "│ cadc77afb63f357407de ┆ c2a0a8434524101fdbcf ┆ 10    │\n",
       "│ cadc77afb63f357407de ┆ caa02c48c1b2e7158482 ┆ 10    │\n",
       "└──────────────────────┴──────────────────────┴───────┘"
      ]
     },
     "execution_count": 9,
     "metadata": {},
     "output_type": "execute_result"
    }
   ],
   "source": [
    "train.filter(\n",
    "    pl.col(\"user_id\").is_in(only_train_contain_user_id)\n",
    ")"
   ]
  },
  {
   "cell_type": "code",
   "execution_count": 10,
   "metadata": {},
   "outputs": [
    {
     "data": {
      "text/html": [
       "<div><style>\n",
       ".dataframe > thead > tr > th,\n",
       ".dataframe > tbody > tr > td {\n",
       "  text-align: right;\n",
       "}\n",
       "</style>\n",
       "<small>shape: (26_754, 2)</small><table border=\"1\" class=\"dataframe\"><thead><tr><th>user_id</th><th>anime_id</th></tr><tr><td>str</td><td>str</td></tr></thead><tbody><tr><td>&quot;00eb399c958546986c29&quot;</td><td>&quot;01e4c56439ca58e9c71a&quot;</td></tr><tr><td>&quot;00eb399c958546986c29&quot;</td><td>&quot;0309947ce1d2cab4fb69&quot;</td></tr><tr><td>&quot;00eb399c958546986c29&quot;</td><td>&quot;030a3e39232b5fc784fc&quot;</td></tr><tr><td>&quot;00eb399c958546986c29&quot;</td><td>&quot;036f9083805619fc5b71&quot;</td></tr><tr><td>&quot;00eb399c958546986c29&quot;</td><td>&quot;041995f3f394ba00c88c&quot;</td></tr><tr><td>&quot;00eb399c958546986c29&quot;</td><td>&quot;04373f33f3393382b7e8&quot;</td></tr><tr><td>&quot;00eb399c958546986c29&quot;</td><td>&quot;050c951e7725043a3336&quot;</td></tr><tr><td>&quot;00eb399c958546986c29&quot;</td><td>&quot;0594a0aa2636bb8b5488&quot;</td></tr><tr><td>&quot;00eb399c958546986c29&quot;</td><td>&quot;07726bc2dd546eec8dd9&quot;</td></tr><tr><td>&quot;00eb399c958546986c29&quot;</td><td>&quot;0928df168d8caf6276e7&quot;</td></tr><tr><td>&quot;00eb399c958546986c29&quot;</td><td>&quot;0995d7d633babf6dd281&quot;</td></tr><tr><td>&quot;00eb399c958546986c29&quot;</td><td>&quot;0c935556e528b194dfff&quot;</td></tr><tr><td>&hellip;</td><td>&hellip;</td></tr><tr><td>&quot;ffe85a36cd20500faa58&quot;</td><td>&quot;d08c2cb535c68ec14a17&quot;</td></tr><tr><td>&quot;ffe85a36cd20500faa58&quot;</td><td>&quot;d4dbe6030811dadd6ad4&quot;</td></tr><tr><td>&quot;ffe85a36cd20500faa58&quot;</td><td>&quot;d5ae194394bbf6b1d755&quot;</td></tr><tr><td>&quot;ffe85a36cd20500faa58&quot;</td><td>&quot;dcc40e4c571b06efa812&quot;</td></tr><tr><td>&quot;ffe85a36cd20500faa58&quot;</td><td>&quot;e73d464222c462e99b54&quot;</td></tr><tr><td>&quot;ffe85a36cd20500faa58&quot;</td><td>&quot;e988b712c9354cecdb75&quot;</td></tr><tr><td>&quot;ffe85a36cd20500faa58&quot;</td><td>&quot;e993a1f356c1df245023&quot;</td></tr><tr><td>&quot;ffe85a36cd20500faa58&quot;</td><td>&quot;f508b02efeac8ecb8cc0&quot;</td></tr><tr><td>&quot;ffe85a36cd20500faa58&quot;</td><td>&quot;f5b8ecea3beea4b82d79&quot;</td></tr><tr><td>&quot;ffe85a36cd20500faa58&quot;</td><td>&quot;f6c208226b6b69948053&quot;</td></tr><tr><td>&quot;ffe85a36cd20500faa58&quot;</td><td>&quot;fe67592c312fc1e17745&quot;</td></tr><tr><td>&quot;ffe85a36cd20500faa58&quot;</td><td>&quot;ff73475b68001c5e533d&quot;</td></tr></tbody></table></div>"
      ],
      "text/plain": [
       "shape: (26_754, 2)\n",
       "┌──────────────────────┬──────────────────────┐\n",
       "│ user_id              ┆ anime_id             │\n",
       "│ ---                  ┆ ---                  │\n",
       "│ str                  ┆ str                  │\n",
       "╞══════════════════════╪══════════════════════╡\n",
       "│ 00eb399c958546986c29 ┆ 01e4c56439ca58e9c71a │\n",
       "│ 00eb399c958546986c29 ┆ 0309947ce1d2cab4fb69 │\n",
       "│ 00eb399c958546986c29 ┆ 030a3e39232b5fc784fc │\n",
       "│ 00eb399c958546986c29 ┆ 036f9083805619fc5b71 │\n",
       "│ …                    ┆ …                    │\n",
       "│ ffe85a36cd20500faa58 ┆ f5b8ecea3beea4b82d79 │\n",
       "│ ffe85a36cd20500faa58 ┆ f6c208226b6b69948053 │\n",
       "│ ffe85a36cd20500faa58 ┆ fe67592c312fc1e17745 │\n",
       "│ ffe85a36cd20500faa58 ┆ ff73475b68001c5e533d │\n",
       "└──────────────────────┴──────────────────────┘"
      ]
     },
     "execution_count": 10,
     "metadata": {},
     "output_type": "execute_result"
    }
   ],
   "source": [
    "test_only_test_contain_user_id = test.filter(\n",
    "    pl.col(\"user_id\").is_in(only_test_contain_user_id)\n",
    ")\n",
    "\n",
    "test_only_test_contain_user_id"
   ]
  },
  {
   "cell_type": "code",
   "execution_count": 11,
   "metadata": {},
   "outputs": [
    {
     "data": {
      "text/plain": [
       "22.735307114449846"
      ]
     },
     "execution_count": 11,
     "metadata": {},
     "output_type": "execute_result"
    }
   ],
   "source": [
    "res = test_only_test_contain_user_id.height / test.height\n",
    "res * 100"
   ]
  },
  {
   "cell_type": "markdown",
   "metadata": {},
   "source": [
    "testの全レコードのうち、trainに含まれていないuser_idのレコードが23%を占めている"
   ]
  },
  {
   "cell_type": "markdown",
   "metadata": {},
   "source": [
    "# trainとtestでanime_idがどの程度どの程度重複するか"
   ]
  },
  {
   "cell_type": "code",
   "execution_count": 12,
   "metadata": {},
   "outputs": [],
   "source": [
    "train_anime_id_set = set(list(train.get_column(\"anime_id\").unique()))\n",
    "test_anime_id_set = set(list(test.get_column(\"anime_id\").unique()))"
   ]
  },
  {
   "cell_type": "code",
   "execution_count": 13,
   "metadata": {},
   "outputs": [
    {
     "data": {
      "image/png": "[encoded data removed]",
      "text/plain": [
       "<Figure size 640x480 with 1 Axes>"
      ]
     },
     "metadata": {},
     "output_type": "display_data"
    }
   ],
   "source": [
    "plt.title(\"anime_idの被り具合\")\n",
    "venn2([train_anime_id_set, test_anime_id_set], set_labels = (\"train\", \"test\"));"
   ]
  },
  {
   "cell_type": "markdown",
   "metadata": {},
   "source": [
    "trainにしかいないアニメが2、testにしかいないアニメが2、どちらにも存在するアニメが1952"
   ]
  },
  {
   "cell_type": "code",
   "execution_count": 14,
   "metadata": {},
   "outputs": [],
   "source": [
    "only_train_contain_anime_id = train_anime_id_set.difference(test_anime_id_set)\n",
    "only_test_contain_anime_id = test_anime_id_set.difference(train_anime_id_set)"
   ]
  },
  {
   "cell_type": "code",
   "execution_count": 15,
   "metadata": {},
   "outputs": [
    {
     "data": {
      "text/html": [
       "<div><style>\n",
       ".dataframe > thead > tr > th,\n",
       ".dataframe > tbody > tr > td {\n",
       "  text-align: right;\n",
       "}\n",
       "</style>\n",
       "<small>shape: (2, 18)</small><table border=\"1\" class=\"dataframe\"><thead><tr><th>anime_id</th><th>genres</th><th>japanese_name</th><th>type</th><th>episodes</th><th>aired</th><th>producers</th><th>licensors</th><th>studios</th><th>source</th><th>duration</th><th>rating</th><th>members</th><th>watching</th><th>completed</th><th>on_hold</th><th>dropped</th><th>plan_to_watch</th></tr><tr><td>str</td><td>str</td><td>str</td><td>str</td><td>str</td><td>str</td><td>str</td><td>str</td><td>str</td><td>str</td><td>str</td><td>str</td><td>i64</td><td>i64</td><td>i64</td><td>i64</td><td>i64</td><td>i64</td></tr></thead><tbody><tr><td>&quot;1e9b3a43745594039e42&quot;</td><td>&quot;Slice of Life, Comedy, Romance&quot;</td><td>&quot;ヲタクに恋は難しい OAD&quot;</td><td>&quot;OVA&quot;</td><td>&quot;2&quot;</td><td>&quot;Mar 29, 2019 to Feb 26, 2021&quot;</td><td>&quot;Aniplex, Half H.P Studio, Fujipacific Music&quot;</td><td>&quot;Unknown&quot;</td><td>&quot;A-1 Pictures, Lapin Track&quot;</td><td>&quot;Web manga&quot;</td><td>&quot;22 min. per ep.&quot;</td><td>&quot;PG-13 - Teens 13 or older&quot;</td><td>90626</td><td>46279</td><td>327</td><td>10053</td><td>857</td><td>33110</td></tr><tr><td>&quot;867934bc2a611a8423da&quot;</td><td>&quot;Sci-Fi, Mystery, Psychological, Thriller, Shounen&quot;</td><td>&quot;約束のネバーランド&quot;</td><td>&quot;TV&quot;</td><td>&quot;11&quot;</td><td>&quot;Jan 8, 2021 to ?&quot;</td><td>&quot;Aniplex, Shueisha&quot;</td><td>&quot;Aniplex of America&quot;</td><td>&quot;CloverWorks&quot;</td><td>&quot;Manga&quot;</td><td>&quot;22 min. per ep.&quot;</td><td>&quot;R - 17+ (violence &amp; profanity)&quot;</td><td>482725</td><td>260775</td><td>60</td><td>6458</td><td>6966</td><td>208466</td></tr></tbody></table></div>"
      ],
      "text/plain": [
       "shape: (2, 18)\n",
       "┌─────────────┬─────────────┬─────────────┬──────┬───┬───────────┬─────────┬─────────┬─────────────┐\n",
       "│ anime_id    ┆ genres      ┆ japanese_na ┆ type ┆ … ┆ completed ┆ on_hold ┆ dropped ┆ plan_to_wat │\n",
       "│ ---         ┆ ---         ┆ me          ┆ ---  ┆   ┆ ---       ┆ ---     ┆ ---     ┆ ch          │\n",
       "│ str         ┆ str         ┆ ---         ┆ str  ┆   ┆ i64       ┆ i64     ┆ i64     ┆ ---         │\n",
       "│             ┆             ┆ str         ┆      ┆   ┆           ┆         ┆         ┆ i64         │\n",
       "╞═════════════╪═════════════╪═════════════╪══════╪═══╪═══════════╪═════════╪═════════╪═════════════╡\n",
       "│ 1e9b3a43745 ┆ Slice of    ┆ ヲタクに恋  ┆ OVA  ┆ … ┆ 327       ┆ 10053   ┆ 857     ┆ 33110       │\n",
       "│ 594039e42   ┆ Life,       ┆ は難しい    ┆      ┆   ┆           ┆         ┆         ┆             │\n",
       "│             ┆ Comedy,     ┆ OAD         ┆      ┆   ┆           ┆         ┆         ┆             │\n",
       "│             ┆ Romance     ┆             ┆      ┆   ┆           ┆         ┆         ┆             │\n",
       "│ 867934bc2a6 ┆ Sci-Fi,     ┆ 約束のネバ  ┆ TV   ┆ … ┆ 60        ┆ 6458    ┆ 6966    ┆ 208466      │\n",
       "│ 11a8423da   ┆ Mystery,    ┆ ーランド    ┆      ┆   ┆           ┆         ┆         ┆             │\n",
       "│             ┆ Psychologic ┆             ┆      ┆   ┆           ┆         ┆         ┆             │\n",
       "│             ┆ al,         ┆             ┆      ┆   ┆           ┆         ┆         ┆             │\n",
       "│             ┆ Thriller,   ┆             ┆      ┆   ┆           ┆         ┆         ┆             │\n",
       "│             ┆ Shounen     ┆             ┆      ┆   ┆           ┆         ┆         ┆             │\n",
       "└─────────────┴─────────────┴─────────────┴──────┴───┴───────────┴─────────┴─────────┴─────────────┘"
      ]
     },
     "execution_count": 15,
     "metadata": {},
     "output_type": "execute_result"
    }
   ],
   "source": [
    "anime.filter(\n",
    "    pl.col(\"anime_id\").is_in(only_train_contain_anime_id)\n",
    ")"
   ]
  },
  {
   "cell_type": "code",
   "execution_count": 16,
   "metadata": {},
   "outputs": [
    {
     "data": {
      "text/html": [
       "<div><style>\n",
       ".dataframe > thead > tr > th,\n",
       ".dataframe > tbody > tr > td {\n",
       "  text-align: right;\n",
       "}\n",
       "</style>\n",
       "<small>shape: (2, 18)</small><table border=\"1\" class=\"dataframe\"><thead><tr><th>anime_id</th><th>genres</th><th>japanese_name</th><th>type</th><th>episodes</th><th>aired</th><th>producers</th><th>licensors</th><th>studios</th><th>source</th><th>duration</th><th>rating</th><th>members</th><th>watching</th><th>completed</th><th>on_hold</th><th>dropped</th><th>plan_to_watch</th></tr><tr><td>str</td><td>str</td><td>str</td><td>str</td><td>str</td><td>str</td><td>str</td><td>str</td><td>str</td><td>str</td><td>str</td><td>str</td><td>i64</td><td>i64</td><td>i64</td><td>i64</td><td>i64</td><td>i64</td></tr></thead><tbody><tr><td>&quot;21f8d20251a4f9d150c5&quot;</td><td>&quot;Action, Seinen&quot;</td><td>&quot;はたらく細胞BLACK&quot;</td><td>&quot;TV&quot;</td><td>&quot;13&quot;</td><td>&quot;Jan 10, 2021 to ?&quot;</td><td>&quot;Aniplex, Kodansha, Studio Mausu, Tokyo MX, NetEase&quot;</td><td>&quot;Aniplex of America&quot;</td><td>&quot;LIDENFILMS&quot;</td><td>&quot;Manga&quot;</td><td>&quot;23 min. per ep.&quot;</td><td>&quot;PG-13 - Teens 13 or older&quot;</td><td>123446</td><td>56958</td><td>16</td><td>2262</td><td>1843</td><td>62367</td></tr><tr><td>&quot;d7cee297224130410c3b&quot;</td><td>&quot;Action, Adventure, Comedy, Super Power, Drama, Fantasy, Shounen&quot;</td><td>&quot;ONE PIECE&quot;</td><td>&quot;TV&quot;</td><td>&quot;Unknown&quot;</td><td>&quot;Oct 20, 1999 to ?&quot;</td><td>&quot;Fuji TV, TAP, Shueisha&quot;</td><td>&quot;Funimation, 4Kids Entertainment&quot;</td><td>&quot;Toei Animation&quot;</td><td>&quot;Manga&quot;</td><td>&quot;24 min.&quot;</td><td>&quot;PG-13 - Teens 13 or older&quot;</td><td>1352724</td><td>887333</td><td>33</td><td>187919</td><td>136245</td><td>141194</td></tr></tbody></table></div>"
      ],
      "text/plain": [
       "shape: (2, 18)\n",
       "┌─────────────┬─────────────┬─────────────┬──────┬───┬───────────┬─────────┬─────────┬─────────────┐\n",
       "│ anime_id    ┆ genres      ┆ japanese_na ┆ type ┆ … ┆ completed ┆ on_hold ┆ dropped ┆ plan_to_wat │\n",
       "│ ---         ┆ ---         ┆ me          ┆ ---  ┆   ┆ ---       ┆ ---     ┆ ---     ┆ ch          │\n",
       "│ str         ┆ str         ┆ ---         ┆ str  ┆   ┆ i64       ┆ i64     ┆ i64     ┆ ---         │\n",
       "│             ┆             ┆ str         ┆      ┆   ┆           ┆         ┆         ┆ i64         │\n",
       "╞═════════════╪═════════════╪═════════════╪══════╪═══╪═══════════╪═════════╪═════════╪═════════════╡\n",
       "│ 21f8d20251a ┆ Action,     ┆ はたらく細  ┆ TV   ┆ … ┆ 16        ┆ 2262    ┆ 1843    ┆ 62367       │\n",
       "│ 4f9d150c5   ┆ Seinen      ┆ 胞BLACK     ┆      ┆   ┆           ┆         ┆         ┆             │\n",
       "│ d7cee297224 ┆ Action,     ┆ ONE PIECE   ┆ TV   ┆ … ┆ 33        ┆ 187919  ┆ 136245  ┆ 141194      │\n",
       "│ 130410c3b   ┆ Adventure,  ┆             ┆      ┆   ┆           ┆         ┆         ┆             │\n",
       "│             ┆ Comedy,     ┆             ┆      ┆   ┆           ┆         ┆         ┆             │\n",
       "│             ┆ Super       ┆             ┆      ┆   ┆           ┆         ┆         ┆             │\n",
       "│             ┆ Power,      ┆             ┆      ┆   ┆           ┆         ┆         ┆             │\n",
       "│             ┆ Drama,      ┆             ┆      ┆   ┆           ┆         ┆         ┆             │\n",
       "│             ┆ Fantasy,    ┆             ┆      ┆   ┆           ┆         ┆         ┆             │\n",
       "│             ┆ Shounen     ┆             ┆      ┆   ┆           ┆         ┆         ┆             │\n",
       "└─────────────┴─────────────┴─────────────┴──────┴───┴───────────┴─────────┴─────────┴─────────────┘"
      ]
     },
     "execution_count": 16,
     "metadata": {},
     "output_type": "execute_result"
    }
   ],
   "source": [
    "anime.filter(\n",
    "    pl.col(\"anime_id\").is_in(only_test_contain_anime_id)\n",
    ")"
   ]
  },
  {
   "cell_type": "markdown",
   "metadata": {},
   "source": [
    "testにしかないONE PIECEえぐいて"
   ]
  },
  {
   "cell_type": "code",
   "execution_count": 17,
   "metadata": {},
   "outputs": [
    {
     "data": {
      "text/html": [
       "<div><style>\n",
       ".dataframe > thead > tr > th,\n",
       ".dataframe > tbody > tr > td {\n",
       "  text-align: right;\n",
       "}\n",
       "</style>\n",
       "<small>shape: (4, 18)</small><table border=\"1\" class=\"dataframe\"><thead><tr><th>anime_id</th><th>genres</th><th>japanese_name</th><th>type</th><th>episodes</th><th>aired</th><th>producers</th><th>licensors</th><th>studios</th><th>source</th><th>duration</th><th>rating</th><th>members</th><th>watching</th><th>completed</th><th>on_hold</th><th>dropped</th><th>plan_to_watch</th></tr><tr><td>str</td><td>str</td><td>str</td><td>str</td><td>str</td><td>str</td><td>str</td><td>str</td><td>str</td><td>str</td><td>str</td><td>str</td><td>i64</td><td>i64</td><td>i64</td><td>i64</td><td>i64</td><td>i64</td></tr></thead><tbody><tr><td>&quot;a929e31a2bba9980dd82&quot;</td><td>&quot;Action, Adventure, Comedy, Drama, Fantasy, Shounen&quot;</td><td>&quot;ONE PIECE FILM GOLD&quot;</td><td>&quot;Movie&quot;</td><td>&quot;1&quot;</td><td>&quot;Jul 23, 2016&quot;</td><td>&quot;Unknown&quot;</td><td>&quot;Funimation&quot;</td><td>&quot;Toei Animation&quot;</td><td>&quot;Manga&quot;</td><td>&quot;2 hr.&quot;</td><td>&quot;PG-13 - Teens 13 or older&quot;</td><td>121306</td><td>2388</td><td>100649</td><td>550</td><td>372</td><td>17347</td></tr><tr><td>&quot;ab0d17de9ade9bc13c64&quot;</td><td>&quot;Action, Adventure, Comedy, Drama, Fantasy, Shounen, Super Power&quot;</td><td>&quot;劇場版『ONE PIECE STAMPEDE』（スタンピード）&quot;</td><td>&quot;Movie&quot;</td><td>&quot;1&quot;</td><td>&quot;Aug 9, 2019&quot;</td><td>&quot;Unknown&quot;</td><td>&quot;Unknown&quot;</td><td>&quot;Toei Animation&quot;</td><td>&quot;Manga&quot;</td><td>&quot;1 hr. 41 min.&quot;</td><td>&quot;PG-13 - Teens 13 or older&quot;</td><td>77375</td><td>1467</td><td>57450</td><td>373</td><td>206</td><td>17879</td></tr><tr><td>&quot;d7cee297224130410c3b&quot;</td><td>&quot;Action, Adventure, Comedy, Super Power, Drama, Fantasy, Shounen&quot;</td><td>&quot;ONE PIECE&quot;</td><td>&quot;TV&quot;</td><td>&quot;Unknown&quot;</td><td>&quot;Oct 20, 1999 to ?&quot;</td><td>&quot;Fuji TV, TAP, Shueisha&quot;</td><td>&quot;Funimation, 4Kids Entertainment&quot;</td><td>&quot;Toei Animation&quot;</td><td>&quot;Manga&quot;</td><td>&quot;24 min.&quot;</td><td>&quot;PG-13 - Teens 13 or older&quot;</td><td>1352724</td><td>887333</td><td>33</td><td>187919</td><td>136245</td><td>141194</td></tr><tr><td>&quot;eb25d8bf9c986ad62c41&quot;</td><td>&quot;Action, Adventure, Comedy, Super Power, Fantasy, Shounen&quot;</td><td>&quot;ONE PIECE&quot;</td><td>&quot;Movie&quot;</td><td>&quot;1&quot;</td><td>&quot;Mar 4, 2000&quot;</td><td>&quot;Unknown&quot;</td><td>&quot;Unknown&quot;</td><td>&quot;Toei Animation&quot;</td><td>&quot;Manga&quot;</td><td>&quot;50 min.&quot;</td><td>&quot;PG-13 - Teens 13 or older&quot;</td><td>82437</td><td>1081</td><td>72673</td><td>408</td><td>357</td><td>7918</td></tr></tbody></table></div>"
      ],
      "text/plain": [
       "shape: (4, 18)\n",
       "┌─────────────┬─────────────┬─────────────┬───────┬───┬───────────┬─────────┬─────────┬────────────┐\n",
       "│ anime_id    ┆ genres      ┆ japanese_na ┆ type  ┆ … ┆ completed ┆ on_hold ┆ dropped ┆ plan_to_wa │\n",
       "│ ---         ┆ ---         ┆ me          ┆ ---   ┆   ┆ ---       ┆ ---     ┆ ---     ┆ tch        │\n",
       "│ str         ┆ str         ┆ ---         ┆ str   ┆   ┆ i64       ┆ i64     ┆ i64     ┆ ---        │\n",
       "│             ┆             ┆ str         ┆       ┆   ┆           ┆         ┆         ┆ i64        │\n",
       "╞═════════════╪═════════════╪═════════════╪═══════╪═══╪═══════════╪═════════╪═════════╪════════════╡\n",
       "│ a929e31a2bb ┆ Action,     ┆ ONE PIECE   ┆ Movie ┆ … ┆ 100649    ┆ 550     ┆ 372     ┆ 17347      │\n",
       "│ a9980dd82   ┆ Adventure,  ┆ FILM GOLD   ┆       ┆   ┆           ┆         ┆         ┆            │\n",
       "│             ┆ Comedy,     ┆             ┆       ┆   ┆           ┆         ┆         ┆            │\n",
       "│             ┆ Drama,      ┆             ┆       ┆   ┆           ┆         ┆         ┆            │\n",
       "│             ┆ Fantasy,    ┆             ┆       ┆   ┆           ┆         ┆         ┆            │\n",
       "│             ┆ Shounen     ┆             ┆       ┆   ┆           ┆         ┆         ┆            │\n",
       "│ ab0d17de9ad ┆ Action,     ┆ 劇場版『ONE ┆ Movie ┆ … ┆ 57450     ┆ 373     ┆ 206     ┆ 17879      │\n",
       "│ e9bc13c64   ┆ Adventure,  ┆ PIECE STAMP ┆       ┆   ┆           ┆         ┆         ┆            │\n",
       "│             ┆ Comedy,     ┆ EDE』（スタ ┆       ┆   ┆           ┆         ┆         ┆            │\n",
       "│             ┆ Drama,      ┆ ンピード）  ┆       ┆   ┆           ┆         ┆         ┆            │\n",
       "│             ┆ Fantasy,    ┆             ┆       ┆   ┆           ┆         ┆         ┆            │\n",
       "│             ┆ Shounen,    ┆             ┆       ┆   ┆           ┆         ┆         ┆            │\n",
       "│             ┆ Super Power ┆             ┆       ┆   ┆           ┆         ┆         ┆            │\n",
       "│ d7cee297224 ┆ Action,     ┆ ONE PIECE   ┆ TV    ┆ … ┆ 33        ┆ 187919  ┆ 136245  ┆ 141194     │\n",
       "│ 130410c3b   ┆ Adventure,  ┆             ┆       ┆   ┆           ┆         ┆         ┆            │\n",
       "│             ┆ Comedy,     ┆             ┆       ┆   ┆           ┆         ┆         ┆            │\n",
       "│             ┆ Super       ┆             ┆       ┆   ┆           ┆         ┆         ┆            │\n",
       "│             ┆ Power,      ┆             ┆       ┆   ┆           ┆         ┆         ┆            │\n",
       "│             ┆ Drama,      ┆             ┆       ┆   ┆           ┆         ┆         ┆            │\n",
       "│             ┆ Fantasy,    ┆             ┆       ┆   ┆           ┆         ┆         ┆            │\n",
       "│             ┆ Shounen     ┆             ┆       ┆   ┆           ┆         ┆         ┆            │\n",
       "│ eb25d8bf9c9 ┆ Action,     ┆ ONE PIECE   ┆ Movie ┆ … ┆ 72673     ┆ 408     ┆ 357     ┆ 7918       │\n",
       "│ 86ad62c41   ┆ Adventure,  ┆             ┆       ┆   ┆           ┆         ┆         ┆            │\n",
       "│             ┆ Comedy,     ┆             ┆       ┆   ┆           ┆         ┆         ┆            │\n",
       "│             ┆ Super       ┆             ┆       ┆   ┆           ┆         ┆         ┆            │\n",
       "│             ┆ Power,      ┆             ┆       ┆   ┆           ┆         ┆         ┆            │\n",
       "│             ┆ Fantasy,    ┆             ┆       ┆   ┆           ┆         ┆         ┆            │\n",
       "│             ┆ Shounen     ┆             ┆       ┆   ┆           ┆         ┆         ┆            │\n",
       "└─────────────┴─────────────┴─────────────┴───────┴───┴───────────┴─────────┴─────────┴────────────┘"
      ]
     },
     "execution_count": 17,
     "metadata": {},
     "output_type": "execute_result"
    }
   ],
   "source": [
    "anime.filter(\n",
    "    pl.col(\"japanese_name\").str.contains(\"ONE PIECE\")\n",
    ")"
   ]
  },
  {
   "cell_type": "markdown",
   "metadata": {},
   "source": [
    "anime全体にはONE PIECE作品が4件あるから、同じ作品グループを作ると推論できるかもしれない、ただしTV版とMovie版はだいぶ評価が分かれそう"
   ]
  },
  {
   "cell_type": "code",
   "execution_count": 18,
   "metadata": {},
   "outputs": [
    {
     "data": {
      "text/html": [
       "<div><style>\n",
       ".dataframe > thead > tr > th,\n",
       ".dataframe > tbody > tr > td {\n",
       "  text-align: right;\n",
       "}\n",
       "</style>\n",
       "<small>shape: (2, 2)</small><table border=\"1\" class=\"dataframe\"><thead><tr><th>user_id</th><th>anime_id</th></tr><tr><td>str</td><td>str</td></tr></thead><tbody><tr><td>&quot;332a8a7544b04e35b059&quot;</td><td>&quot;d7cee297224130410c3b&quot;</td></tr><tr><td>&quot;f6beb17befcf1afc0e0d&quot;</td><td>&quot;21f8d20251a4f9d150c5&quot;</td></tr></tbody></table></div>"
      ],
      "text/plain": [
       "shape: (2, 2)\n",
       "┌──────────────────────┬──────────────────────┐\n",
       "│ user_id              ┆ anime_id             │\n",
       "│ ---                  ┆ ---                  │\n",
       "│ str                  ┆ str                  │\n",
       "╞══════════════════════╪══════════════════════╡\n",
       "│ 332a8a7544b04e35b059 ┆ d7cee297224130410c3b │\n",
       "│ f6beb17befcf1afc0e0d ┆ 21f8d20251a4f9d150c5 │\n",
       "└──────────────────────┴──────────────────────┘"
      ]
     },
     "execution_count": 18,
     "metadata": {},
     "output_type": "execute_result"
    }
   ],
   "source": [
    "test_only_test_contain_anime_id = test.filter(\n",
    "    pl.col(\"anime_id\").is_in(only_test_contain_anime_id)\n",
    ")\n",
    "\n",
    "test_only_test_contain_anime_id"
   ]
  },
  {
   "cell_type": "code",
   "execution_count": 19,
   "metadata": {},
   "outputs": [
    {
     "data": {
      "text/plain": [
       "0.0016995819028518986"
      ]
     },
     "execution_count": 19,
     "metadata": {},
     "output_type": "execute_result"
    }
   ],
   "source": [
    "res = test_only_test_contain_anime_id.height / test.height\n",
    "res * 100"
   ]
  },
  {
   "cell_type": "markdown",
   "metadata": {},
   "source": [
    "testの全レコードのうち、trainに含まれていないanime_idのレコードは0.001%"
   ]
  },
  {
   "cell_type": "markdown",
   "metadata": {},
   "source": [
    "# Testの中に、user_id, anime_idの両方がtrainに存在しないものはあるか"
   ]
  },
  {
   "cell_type": "code",
   "execution_count": 20,
   "metadata": {},
   "outputs": [
    {
     "data": {
      "text/html": [
       "<div><style>\n",
       ".dataframe > thead > tr > th,\n",
       ".dataframe > tbody > tr > td {\n",
       "  text-align: right;\n",
       "}\n",
       "</style>\n",
       "<small>shape: (1, 2)</small><table border=\"1\" class=\"dataframe\"><thead><tr><th>user_id</th><th>anime_id</th></tr><tr><td>str</td><td>str</td></tr></thead><tbody><tr><td>&quot;332a8a7544b04e35b059&quot;</td><td>&quot;d7cee297224130410c3b&quot;</td></tr></tbody></table></div>"
      ],
      "text/plain": [
       "shape: (1, 2)\n",
       "┌──────────────────────┬──────────────────────┐\n",
       "│ user_id              ┆ anime_id             │\n",
       "│ ---                  ┆ ---                  │\n",
       "│ str                  ┆ str                  │\n",
       "╞══════════════════════╪══════════════════════╡\n",
       "│ 332a8a7544b04e35b059 ┆ d7cee297224130410c3b │\n",
       "└──────────────────────┴──────────────────────┘"
      ]
     },
     "execution_count": 20,
     "metadata": {},
     "output_type": "execute_result"
    }
   ],
   "source": [
    "test.filter(\n",
    "    (pl.col(\"user_id\").is_in(only_test_contain_user_id)) & (pl.col(\"anime_id\").is_in(only_test_contain_anime_id))\n",
    ")"
   ]
  },
  {
   "cell_type": "markdown",
   "metadata": {},
   "source": [
    "Testの中に、user_id, anime_idの両方がtrainに存在しないレコードは1レコード存在する"
   ]
  },
  {
   "cell_type": "markdown",
   "metadata": {},
   "source": [
    "この行を推論するには何かしらの方法で特徴量を付与する必要がある"
   ]
  }
 ],
 "metadata": {
  "kernelspec": {
   "display_name": ".venv",
   "language": "python",
   "name": "python3"
  },
  "language_info": {
   "codemirror_mode": {
    "name": "ipython",
    "version": 3
   },
   "file_extension": ".py",
   "mimetype": "text/x-python",
   "name": "python",
   "nbconvert_exporter": "python",
   "pygments_lexer": "ipython3",
   "version": "3.11.3"
  },
  "orig_nbformat": 4
 },
 "nbformat": 4,
 "nbformat_minor": 2
}
