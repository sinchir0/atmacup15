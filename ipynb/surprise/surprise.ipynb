{
 "cells": [
  {
   "cell_type": "code",
   "execution_count": 3,
   "metadata": {},
   "outputs": [
    {
     "name": "stdout",
     "output_type": "stream",
     "text": [
      "Evaluating RMSE of algorithm SVD on 5 split(s).\n",
      "\n",
      "                  Fold 1  Fold 2  Fold 3  Fold 4  Fold 5  Mean    Std     \n",
      "RMSE (testset)    1.1953  1.2089  1.2078  1.2007  1.2051  1.2036  0.0050  \n",
      "Fit time          0.65    0.72    0.61    0.70    0.72    0.68    0.04    \n",
      "Test time         0.05    0.05    0.09    0.05    0.09    0.07    0.02    \n"
     ]
    }
   ],
   "source": [
    "import pandas as pd\n",
    "from surprise import Dataset, Reader, SVD\n",
    "from surprise.model_selection import cross_validate\n",
    "\n",
    "# Define a Reader object\n",
    "# The Reader object helps in parsing the file or dataframe\n",
    "reader = Reader(rating_scale=(1, 10))\n",
    "\n",
    "# Load the dataset\n",
    "train_df = pd.read_csv('../../data/train.csv')\n",
    "\n",
    "train_data = Dataset.load_from_df(train_df[['user_id', 'anime_id', 'score']], reader)\n",
    "\n",
    "# Use the famous SVD algorithm.\n",
    "algo = SVD()\n",
    "\n",
    "# Run 5-fold cross-validation and print results.\n",
    "_ = cross_validate(algo, train_data, measures=['RMSE',], cv=5, verbose=True)"
   ]
  },
  {
   "cell_type": "code",
   "execution_count": 4,
   "metadata": {},
   "outputs": [],
   "source": [
    "# Create the dataset to be used for building the filter\n",
    "train_data = Dataset.load_from_df(train_df[['user_id', 'anime_id', 'score']], reader)\n",
    "\n",
    "# Retrieve the trainset.\n",
    "train_data = train_data.build_full_trainset()\n",
    "\n",
    "# Build an algorithm, and train it.\n",
    "algo = SVD()\n",
    "_ = algo.fit(train_data)"
   ]
  },
  {
   "cell_type": "code",
   "execution_count": 6,
   "metadata": {},
   "outputs": [],
   "source": [
    "# Load the test dataset\n",
    "test_df = pd.read_csv('../../data/test.csv')\n",
    "test_df['score'] = 0\n",
    "\n",
    "# Convert the test dataset to the surprise format\n",
    "test_set = Dataset.load_from_df(test_df, reader).build_full_trainset().build_testset()\n",
    "\n",
    "# Predict ratings for the testset\n",
    "predictions = algo.test(test_set)\n",
    "\n",
    "submission = pd.read_csv('../../data/sample_submission.csv')\n",
    "\n",
    "# Extract the predicted ratings and add them to the test dataframe\n",
    "submission['score'] = [pred.est for pred in predictions]\n",
    "\n",
    "submission.to_csv('submission.csv', index=False)"
   ]
  },
  {
   "cell_type": "code",
   "execution_count": 7,
   "metadata": {},
   "outputs": [
    {
     "data": {
      "text/html": [
       "<div>\n",
       "<style scoped>\n",
       "    .dataframe tbody tr th:only-of-type {\n",
       "        vertical-align: middle;\n",
       "    }\n",
       "\n",
       "    .dataframe tbody tr th {\n",
       "        vertical-align: top;\n",
       "    }\n",
       "\n",
       "    .dataframe thead th {\n",
       "        text-align: right;\n",
       "    }\n",
       "</style>\n",
       "<table border=\"1\" class=\"dataframe\">\n",
       "  <thead>\n",
       "    <tr style=\"text-align: right;\">\n",
       "      <th></th>\n",
       "      <th>score</th>\n",
       "    </tr>\n",
       "  </thead>\n",
       "  <tbody>\n",
       "    <tr>\n",
       "      <th>0</th>\n",
       "      <td>8.072673</td>\n",
       "    </tr>\n",
       "    <tr>\n",
       "      <th>1</th>\n",
       "      <td>7.813440</td>\n",
       "    </tr>\n",
       "    <tr>\n",
       "      <th>2</th>\n",
       "      <td>6.202975</td>\n",
       "    </tr>\n",
       "    <tr>\n",
       "      <th>3</th>\n",
       "      <td>7.433290</td>\n",
       "    </tr>\n",
       "    <tr>\n",
       "      <th>4</th>\n",
       "      <td>5.741265</td>\n",
       "    </tr>\n",
       "    <tr>\n",
       "      <th>...</th>\n",
       "      <td>...</td>\n",
       "    </tr>\n",
       "    <tr>\n",
       "      <th>117671</th>\n",
       "      <td>8.416928</td>\n",
       "    </tr>\n",
       "    <tr>\n",
       "      <th>117672</th>\n",
       "      <td>7.566343</td>\n",
       "    </tr>\n",
       "    <tr>\n",
       "      <th>117673</th>\n",
       "      <td>7.413439</td>\n",
       "    </tr>\n",
       "    <tr>\n",
       "      <th>117674</th>\n",
       "      <td>6.911007</td>\n",
       "    </tr>\n",
       "    <tr>\n",
       "      <th>117675</th>\n",
       "      <td>6.818631</td>\n",
       "    </tr>\n",
       "  </tbody>\n",
       "</table>\n",
       "<p>117676 rows × 1 columns</p>\n",
       "</div>"
      ],
      "text/plain": [
       "           score\n",
       "0       8.072673\n",
       "1       7.813440\n",
       "2       6.202975\n",
       "3       7.433290\n",
       "4       5.741265\n",
       "...          ...\n",
       "117671  8.416928\n",
       "117672  7.566343\n",
       "117673  7.413439\n",
       "117674  6.911007\n",
       "117675  6.818631\n",
       "\n",
       "[117676 rows x 1 columns]"
      ]
     },
     "execution_count": 7,
     "metadata": {},
     "output_type": "execute_result"
    }
   ],
   "source": [
    "submission"
   ]
  },
  {
   "cell_type": "code",
   "execution_count": null,
   "metadata": {},
   "outputs": [],
   "source": []
  }
 ],
 "metadata": {
  "kernelspec": {
   "display_name": ".venv",
   "language": "python",
   "name": "python3"
  },
  "language_info": {
   "codemirror_mode": {
    "name": "ipython",
    "version": 3
   },
   "file_extension": ".py",
   "mimetype": "text/x-python",
   "name": "python",
   "nbconvert_exporter": "python",
   "pygments_lexer": "ipython3",
   "version": "3.11.3"
  },
  "orig_nbformat": 4
 },
 "nbformat": 4,
 "nbformat_minor": 2
}
